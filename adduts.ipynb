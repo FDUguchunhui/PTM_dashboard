{
 "cells": [
  {
   "cell_type": "code",
   "id": "initial_id",
   "metadata": {
    "collapsed": true,
    "ExecuteTime": {
     "end_time": "2025-02-14T23:14:09.918586Z",
     "start_time": "2025-02-14T23:14:09.916214Z"
    }
   },
   "source": [
    "# Jupyter notebook sample\n",
    "import numpy as np\n",
    "# Import libraries\n",
    "import pandas as pd\n",
    "import matplotlib.pyplot as plt\n",
    "import re\n",
    "import pathlib\n",
    "\n",
    "# TARGET_PTM = '(UniMod:37)'\n",
    "# TARGET_PTM = '(UniMod:7)'\n",
    "# TARGET_PTM = 'Hypusine'\n",
    "# TARGET_PTM = 'Deoxyhypusine'\n",
    "TARGET_PTM = r'acetaldehyde|malondialdehydeacetaldehyde|malondialdehyde'\n",
    "\n",
    "# PTM_DATA = '/Users/cgu3/Documents/diann/data/PROJ0093.csv'\n",
    "PTM_DATA = '/Users/cgu3/Documents/diann/data/PROJ0093_qvalue005.csv'"
   ],
   "outputs": [],
   "execution_count": 183
  },
  {
   "metadata": {
    "ExecuteTime": {
     "end_time": "2025-02-14T23:14:11.459703Z",
     "start_time": "2025-02-14T23:14:10.082642Z"
    }
   },
   "cell_type": "code",
   "source": "dat = pd.read_csv(PTM_DATA)",
   "id": "46e18e3e2d13cb",
   "outputs": [],
   "execution_count": 184
  },
  {
   "metadata": {
    "ExecuteTime": {
     "end_time": "2025-02-14T23:14:11.676568Z",
     "start_time": "2025-02-14T23:14:11.465274Z"
    }
   },
   "cell_type": "code",
   "source": [
    "import re\n",
    "\n",
    "# check total number of row where the Modified.Sequence contain \"(*)\" and * means any number of any character\n",
    "dat['has_target_PTM'] = dat['Modified.Sequence'].str.contains(TARGET_PTM, case=False, na=False)\n",
    "dat['num_PTM'] = dat['Modified.Sequence'].str.count(TARGET_PTM)\n",
    "# create PTM column by extract one of \"acetaldehyde|malondialdehyde|malondialdehydeacetaldehyde\" from \"source\" column\n",
    "dat['PTM'] = dat['source'].str.extract(f'({TARGET_PTM})', expand=False)"
   ],
   "id": "b2de14acd9bba727",
   "outputs": [],
   "execution_count": 185
  },
  {
   "metadata": {
    "ExecuteTime": {
     "end_time": "2025-02-14T23:14:11.699849Z",
     "start_time": "2025-02-14T23:14:11.686886Z"
    }
   },
   "cell_type": "code",
   "source": [
    "# filter out the rows where has_target_PTM is True\n",
    "peptide_list_PTM = dat[dat['has_target_PTM'] == True].loc[:, ['PTM', 'Run', 'Protein.Group', 'Protein.Ids', 'Protein.Names', 'Genes', 'Stripped.Sequence', 'Modified.Sequence', 'Precursor.Quantity']]\n",
    "peptide_list_PTM.to_csv(f'output/{pathlib.Path(PTM_DATA).stem}.csv', index=False)"
   ],
   "id": "cbca2a2c01fcf8d7",
   "outputs": [],
   "execution_count": 186
  },
  {
   "metadata": {
    "ExecuteTime": {
     "end_time": "2025-02-14T23:14:11.815894Z",
     "start_time": "2025-02-14T23:14:11.711718Z"
    }
   },
   "cell_type": "code",
   "source": [
    "peptide_level_aggregation = dat.groupby(['PTM', 'Run', 'Stripped.Sequence']).agg({'has_target_PTM': 'any', 'num_PTM': 'max'}).reset_index()\n",
    "\n",
    "protein_level_aggregation = dat.groupby(['PTM', 'Run', 'Protein.Group']).agg({'has_target_PTM': 'any', 'num_PTM': 'max'}).reset_index()"
   ],
   "id": "25b4ad5cddf0b963",
   "outputs": [],
   "execution_count": 187
  },
  {
   "metadata": {
    "ExecuteTime": {
     "end_time": "2025-02-14T23:03:59.622061Z",
     "start_time": "2025-02-14T23:03:59.602277Z"
    }
   },
   "cell_type": "code",
   "source": [
    "peptide_level = peptide_level_aggregation.groupby(['PTM', 'Run']).agg({'has_target_PTM': ['mean', 'sum', 'count']}).reset_index()\n",
    "\n",
    "# Flatten multi-level column names\n",
    "peptide_level.columns = ['_'.join(col).strip('_') for col in peptide_level.columns]\n",
    "peptide_level = peptide_level.rename(columns={'has_target_PTM_count': 'total_count'})\n",
    "\n",
    "peptide_level"
   ],
   "id": "820bb9261152940b",
   "outputs": [
    {
     "data": {
      "text/plain": [
       "                           PTM                                      Run  \\\n",
       "0                 acetaldehyde   PROJ0093_MDAMB231_Azi_R1_S1-A8_1_11479   \n",
       "1                 acetaldehyde  PROJ0093_MDAMB231_DMSO_R1_S1-A7_1_11478   \n",
       "2              malondialdehyde   PROJ0093_MDAMB231_Azi_R1_S1-A8_1_11479   \n",
       "3              malondialdehyde  PROJ0093_MDAMB231_DMSO_R1_S1-A7_1_11478   \n",
       "4  malondialdehydeacetaldehyde   PROJ0093_MDAMB231_Azi_R1_S1-A8_1_11479   \n",
       "5  malondialdehydeacetaldehyde  PROJ0093_MDAMB231_DMSO_R1_S1-A7_1_11478   \n",
       "\n",
       "   has_target_PTM_mean  has_target_PTM_sum  total_count  \n",
       "0             0.000266                   9        33867  \n",
       "1             0.000514                  10        19447  \n",
       "2             0.000150                   5        33400  \n",
       "3             0.000210                   4        19008  \n",
       "4             0.000270                   9        33393  \n",
       "5             0.000211                   4        18948  "
      ],
      "text/html": [
       "<div>\n",
       "<style scoped>\n",
       "    .dataframe tbody tr th:only-of-type {\n",
       "        vertical-align: middle;\n",
       "    }\n",
       "\n",
       "    .dataframe tbody tr th {\n",
       "        vertical-align: top;\n",
       "    }\n",
       "\n",
       "    .dataframe thead th {\n",
       "        text-align: right;\n",
       "    }\n",
       "</style>\n",
       "<table border=\"1\" class=\"dataframe\">\n",
       "  <thead>\n",
       "    <tr style=\"text-align: right;\">\n",
       "      <th></th>\n",
       "      <th>PTM</th>\n",
       "      <th>Run</th>\n",
       "      <th>has_target_PTM_mean</th>\n",
       "      <th>has_target_PTM_sum</th>\n",
       "      <th>total_count</th>\n",
       "    </tr>\n",
       "  </thead>\n",
       "  <tbody>\n",
       "    <tr>\n",
       "      <th>0</th>\n",
       "      <td>acetaldehyde</td>\n",
       "      <td>PROJ0093_MDAMB231_Azi_R1_S1-A8_1_11479</td>\n",
       "      <td>0.000266</td>\n",
       "      <td>9</td>\n",
       "      <td>33867</td>\n",
       "    </tr>\n",
       "    <tr>\n",
       "      <th>1</th>\n",
       "      <td>acetaldehyde</td>\n",
       "      <td>PROJ0093_MDAMB231_DMSO_R1_S1-A7_1_11478</td>\n",
       "      <td>0.000514</td>\n",
       "      <td>10</td>\n",
       "      <td>19447</td>\n",
       "    </tr>\n",
       "    <tr>\n",
       "      <th>2</th>\n",
       "      <td>malondialdehyde</td>\n",
       "      <td>PROJ0093_MDAMB231_Azi_R1_S1-A8_1_11479</td>\n",
       "      <td>0.000150</td>\n",
       "      <td>5</td>\n",
       "      <td>33400</td>\n",
       "    </tr>\n",
       "    <tr>\n",
       "      <th>3</th>\n",
       "      <td>malondialdehyde</td>\n",
       "      <td>PROJ0093_MDAMB231_DMSO_R1_S1-A7_1_11478</td>\n",
       "      <td>0.000210</td>\n",
       "      <td>4</td>\n",
       "      <td>19008</td>\n",
       "    </tr>\n",
       "    <tr>\n",
       "      <th>4</th>\n",
       "      <td>malondialdehydeacetaldehyde</td>\n",
       "      <td>PROJ0093_MDAMB231_Azi_R1_S1-A8_1_11479</td>\n",
       "      <td>0.000270</td>\n",
       "      <td>9</td>\n",
       "      <td>33393</td>\n",
       "    </tr>\n",
       "    <tr>\n",
       "      <th>5</th>\n",
       "      <td>malondialdehydeacetaldehyde</td>\n",
       "      <td>PROJ0093_MDAMB231_DMSO_R1_S1-A7_1_11478</td>\n",
       "      <td>0.000211</td>\n",
       "      <td>4</td>\n",
       "      <td>18948</td>\n",
       "    </tr>\n",
       "  </tbody>\n",
       "</table>\n",
       "</div>"
      ]
     },
     "execution_count": 156,
     "metadata": {},
     "output_type": "execute_result"
    }
   ],
   "execution_count": 156
  },
  {
   "metadata": {
    "ExecuteTime": {
     "end_time": "2025-02-14T23:03:59.698276Z",
     "start_time": "2025-02-14T23:03:59.689597Z"
    }
   },
   "cell_type": "code",
   "source": [
    "protein_level = protein_level_aggregation.groupby(['PTM', 'Run']).agg({\n",
    "    'has_target_PTM': ['mean', 'sum', 'count']\n",
    "}).reset_index()\n",
    "\n",
    "# Flatten multi-level column names\n",
    "protein_level.columns = ['_'.join(col).strip('_') for col in protein_level.columns]\n",
    "protein_level = protein_level.rename(columns={'has_target_PTM_count': 'total_count'})\n",
    "\n",
    "# Display result\n",
    "protein_level"
   ],
   "id": "5525350bf2eee76a",
   "outputs": [
    {
     "data": {
      "text/plain": [
       "                           PTM                                      Run  \\\n",
       "0                 acetaldehyde   PROJ0093_MDAMB231_Azi_R1_S1-A8_1_11479   \n",
       "1                 acetaldehyde  PROJ0093_MDAMB231_DMSO_R1_S1-A7_1_11478   \n",
       "2              malondialdehyde   PROJ0093_MDAMB231_Azi_R1_S1-A8_1_11479   \n",
       "3              malondialdehyde  PROJ0093_MDAMB231_DMSO_R1_S1-A7_1_11478   \n",
       "4  malondialdehydeacetaldehyde   PROJ0093_MDAMB231_Azi_R1_S1-A8_1_11479   \n",
       "5  malondialdehydeacetaldehyde  PROJ0093_MDAMB231_DMSO_R1_S1-A7_1_11478   \n",
       "\n",
       "   has_target_PTM_mean  has_target_PTM_sum  total_count  \n",
       "0             0.001702                   8         4701  \n",
       "1             0.002820                   9         3192  \n",
       "2             0.001073                   5         4660  \n",
       "3             0.001282                   4         3119  \n",
       "4             0.001935                   9         4650  \n",
       "5             0.001278                   4         3129  "
      ],
      "text/html": [
       "<div>\n",
       "<style scoped>\n",
       "    .dataframe tbody tr th:only-of-type {\n",
       "        vertical-align: middle;\n",
       "    }\n",
       "\n",
       "    .dataframe tbody tr th {\n",
       "        vertical-align: top;\n",
       "    }\n",
       "\n",
       "    .dataframe thead th {\n",
       "        text-align: right;\n",
       "    }\n",
       "</style>\n",
       "<table border=\"1\" class=\"dataframe\">\n",
       "  <thead>\n",
       "    <tr style=\"text-align: right;\">\n",
       "      <th></th>\n",
       "      <th>PTM</th>\n",
       "      <th>Run</th>\n",
       "      <th>has_target_PTM_mean</th>\n",
       "      <th>has_target_PTM_sum</th>\n",
       "      <th>total_count</th>\n",
       "    </tr>\n",
       "  </thead>\n",
       "  <tbody>\n",
       "    <tr>\n",
       "      <th>0</th>\n",
       "      <td>acetaldehyde</td>\n",
       "      <td>PROJ0093_MDAMB231_Azi_R1_S1-A8_1_11479</td>\n",
       "      <td>0.001702</td>\n",
       "      <td>8</td>\n",
       "      <td>4701</td>\n",
       "    </tr>\n",
       "    <tr>\n",
       "      <th>1</th>\n",
       "      <td>acetaldehyde</td>\n",
       "      <td>PROJ0093_MDAMB231_DMSO_R1_S1-A7_1_11478</td>\n",
       "      <td>0.002820</td>\n",
       "      <td>9</td>\n",
       "      <td>3192</td>\n",
       "    </tr>\n",
       "    <tr>\n",
       "      <th>2</th>\n",
       "      <td>malondialdehyde</td>\n",
       "      <td>PROJ0093_MDAMB231_Azi_R1_S1-A8_1_11479</td>\n",
       "      <td>0.001073</td>\n",
       "      <td>5</td>\n",
       "      <td>4660</td>\n",
       "    </tr>\n",
       "    <tr>\n",
       "      <th>3</th>\n",
       "      <td>malondialdehyde</td>\n",
       "      <td>PROJ0093_MDAMB231_DMSO_R1_S1-A7_1_11478</td>\n",
       "      <td>0.001282</td>\n",
       "      <td>4</td>\n",
       "      <td>3119</td>\n",
       "    </tr>\n",
       "    <tr>\n",
       "      <th>4</th>\n",
       "      <td>malondialdehydeacetaldehyde</td>\n",
       "      <td>PROJ0093_MDAMB231_Azi_R1_S1-A8_1_11479</td>\n",
       "      <td>0.001935</td>\n",
       "      <td>9</td>\n",
       "      <td>4650</td>\n",
       "    </tr>\n",
       "    <tr>\n",
       "      <th>5</th>\n",
       "      <td>malondialdehydeacetaldehyde</td>\n",
       "      <td>PROJ0093_MDAMB231_DMSO_R1_S1-A7_1_11478</td>\n",
       "      <td>0.001278</td>\n",
       "      <td>4</td>\n",
       "      <td>3129</td>\n",
       "    </tr>\n",
       "  </tbody>\n",
       "</table>\n",
       "</div>"
      ]
     },
     "execution_count": 157,
     "metadata": {},
     "output_type": "execute_result"
    }
   ],
   "execution_count": 157
  },
  {
   "metadata": {
    "ExecuteTime": {
     "end_time": "2025-02-14T23:03:59.752875Z",
     "start_time": "2025-02-14T23:03:59.747137Z"
    }
   },
   "cell_type": "code",
   "source": [
    "# horizontal combine two dataframe\n",
    "combined = pd.merge(peptide_level, protein_level, on=['PTM', 'Run'], suffixes=('_peptide', '_protein'))\n",
    "combined"
   ],
   "id": "22893b74cb39abde",
   "outputs": [
    {
     "data": {
      "text/plain": [
       "                           PTM                                      Run  \\\n",
       "0                 acetaldehyde   PROJ0093_MDAMB231_Azi_R1_S1-A8_1_11479   \n",
       "1                 acetaldehyde  PROJ0093_MDAMB231_DMSO_R1_S1-A7_1_11478   \n",
       "2              malondialdehyde   PROJ0093_MDAMB231_Azi_R1_S1-A8_1_11479   \n",
       "3              malondialdehyde  PROJ0093_MDAMB231_DMSO_R1_S1-A7_1_11478   \n",
       "4  malondialdehydeacetaldehyde   PROJ0093_MDAMB231_Azi_R1_S1-A8_1_11479   \n",
       "5  malondialdehydeacetaldehyde  PROJ0093_MDAMB231_DMSO_R1_S1-A7_1_11478   \n",
       "\n",
       "   has_target_PTM_mean_peptide  has_target_PTM_sum_peptide  \\\n",
       "0                     0.000266                           9   \n",
       "1                     0.000514                          10   \n",
       "2                     0.000150                           5   \n",
       "3                     0.000210                           4   \n",
       "4                     0.000270                           9   \n",
       "5                     0.000211                           4   \n",
       "\n",
       "   total_count_peptide  has_target_PTM_mean_protein  \\\n",
       "0                33867                     0.001702   \n",
       "1                19447                     0.002820   \n",
       "2                33400                     0.001073   \n",
       "3                19008                     0.001282   \n",
       "4                33393                     0.001935   \n",
       "5                18948                     0.001278   \n",
       "\n",
       "   has_target_PTM_sum_protein  total_count_protein  \n",
       "0                           8                 4701  \n",
       "1                           9                 3192  \n",
       "2                           5                 4660  \n",
       "3                           4                 3119  \n",
       "4                           9                 4650  \n",
       "5                           4                 3129  "
      ],
      "text/html": [
       "<div>\n",
       "<style scoped>\n",
       "    .dataframe tbody tr th:only-of-type {\n",
       "        vertical-align: middle;\n",
       "    }\n",
       "\n",
       "    .dataframe tbody tr th {\n",
       "        vertical-align: top;\n",
       "    }\n",
       "\n",
       "    .dataframe thead th {\n",
       "        text-align: right;\n",
       "    }\n",
       "</style>\n",
       "<table border=\"1\" class=\"dataframe\">\n",
       "  <thead>\n",
       "    <tr style=\"text-align: right;\">\n",
       "      <th></th>\n",
       "      <th>PTM</th>\n",
       "      <th>Run</th>\n",
       "      <th>has_target_PTM_mean_peptide</th>\n",
       "      <th>has_target_PTM_sum_peptide</th>\n",
       "      <th>total_count_peptide</th>\n",
       "      <th>has_target_PTM_mean_protein</th>\n",
       "      <th>has_target_PTM_sum_protein</th>\n",
       "      <th>total_count_protein</th>\n",
       "    </tr>\n",
       "  </thead>\n",
       "  <tbody>\n",
       "    <tr>\n",
       "      <th>0</th>\n",
       "      <td>acetaldehyde</td>\n",
       "      <td>PROJ0093_MDAMB231_Azi_R1_S1-A8_1_11479</td>\n",
       "      <td>0.000266</td>\n",
       "      <td>9</td>\n",
       "      <td>33867</td>\n",
       "      <td>0.001702</td>\n",
       "      <td>8</td>\n",
       "      <td>4701</td>\n",
       "    </tr>\n",
       "    <tr>\n",
       "      <th>1</th>\n",
       "      <td>acetaldehyde</td>\n",
       "      <td>PROJ0093_MDAMB231_DMSO_R1_S1-A7_1_11478</td>\n",
       "      <td>0.000514</td>\n",
       "      <td>10</td>\n",
       "      <td>19447</td>\n",
       "      <td>0.002820</td>\n",
       "      <td>9</td>\n",
       "      <td>3192</td>\n",
       "    </tr>\n",
       "    <tr>\n",
       "      <th>2</th>\n",
       "      <td>malondialdehyde</td>\n",
       "      <td>PROJ0093_MDAMB231_Azi_R1_S1-A8_1_11479</td>\n",
       "      <td>0.000150</td>\n",
       "      <td>5</td>\n",
       "      <td>33400</td>\n",
       "      <td>0.001073</td>\n",
       "      <td>5</td>\n",
       "      <td>4660</td>\n",
       "    </tr>\n",
       "    <tr>\n",
       "      <th>3</th>\n",
       "      <td>malondialdehyde</td>\n",
       "      <td>PROJ0093_MDAMB231_DMSO_R1_S1-A7_1_11478</td>\n",
       "      <td>0.000210</td>\n",
       "      <td>4</td>\n",
       "      <td>19008</td>\n",
       "      <td>0.001282</td>\n",
       "      <td>4</td>\n",
       "      <td>3119</td>\n",
       "    </tr>\n",
       "    <tr>\n",
       "      <th>4</th>\n",
       "      <td>malondialdehydeacetaldehyde</td>\n",
       "      <td>PROJ0093_MDAMB231_Azi_R1_S1-A8_1_11479</td>\n",
       "      <td>0.000270</td>\n",
       "      <td>9</td>\n",
       "      <td>33393</td>\n",
       "      <td>0.001935</td>\n",
       "      <td>9</td>\n",
       "      <td>4650</td>\n",
       "    </tr>\n",
       "    <tr>\n",
       "      <th>5</th>\n",
       "      <td>malondialdehydeacetaldehyde</td>\n",
       "      <td>PROJ0093_MDAMB231_DMSO_R1_S1-A7_1_11478</td>\n",
       "      <td>0.000211</td>\n",
       "      <td>4</td>\n",
       "      <td>18948</td>\n",
       "      <td>0.001278</td>\n",
       "      <td>4</td>\n",
       "      <td>3129</td>\n",
       "    </tr>\n",
       "  </tbody>\n",
       "</table>\n",
       "</div>"
      ]
     },
     "execution_count": 158,
     "metadata": {},
     "output_type": "execute_result"
    }
   ],
   "execution_count": 158
  },
  {
   "metadata": {
    "ExecuteTime": {
     "end_time": "2025-02-14T23:03:59.846717Z",
     "start_time": "2025-02-14T23:03:59.845440Z"
    }
   },
   "cell_type": "code",
   "source": "",
   "id": "8ba777e10421427e",
   "outputs": [],
   "execution_count": null
  },
  {
   "metadata": {
    "ExecuteTime": {
     "end_time": "2025-02-14T23:03:59.907016Z",
     "start_time": "2025-02-14T23:03:59.903636Z"
    }
   },
   "cell_type": "code",
   "source": "",
   "id": "140cb4b1bfbc9c5f",
   "outputs": [],
   "execution_count": null
  }
 ],
 "metadata": {
  "kernelspec": {
   "display_name": "Python 3",
   "language": "python",
   "name": "python3"
  },
  "language_info": {
   "codemirror_mode": {
    "name": "ipython",
    "version": 2
   },
   "file_extension": ".py",
   "mimetype": "text/x-python",
   "name": "python",
   "nbconvert_exporter": "python",
   "pygments_lexer": "ipython2",
   "version": "2.7.6"
  }
 },
 "nbformat": 4,
 "nbformat_minor": 5
}
